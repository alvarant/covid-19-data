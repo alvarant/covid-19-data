{
 "cells": [
  {
   "cell_type": "code",
   "execution_count": 3,
   "id": "regulation-postage",
   "metadata": {},
   "outputs": [
    {
     "data": {
      "text/html": [
       "<div>\n",
       "<style scoped>\n",
       "    .dataframe tbody tr th:only-of-type {\n",
       "        vertical-align: middle;\n",
       "    }\n",
       "\n",
       "    .dataframe tbody tr th {\n",
       "        vertical-align: top;\n",
       "    }\n",
       "\n",
       "    .dataframe thead th {\n",
       "        text-align: right;\n",
       "    }\n",
       "</style>\n",
       "<table border=\"1\" class=\"dataframe\">\n",
       "  <thead>\n",
       "    <tr style=\"text-align: right;\">\n",
       "      <th></th>\n",
       "      <th>cases_avg_per_100k</th>\n",
       "    </tr>\n",
       "    <tr>\n",
       "      <th>state</th>\n",
       "      <th></th>\n",
       "    </tr>\n",
       "  </thead>\n",
       "  <tbody>\n",
       "    <tr>\n",
       "      <th>Rhode Island</th>\n",
       "      <td>32.331142</td>\n",
       "    </tr>\n",
       "    <tr>\n",
       "      <th>South Dakota</th>\n",
       "      <td>32.489231</td>\n",
       "    </tr>\n",
       "    <tr>\n",
       "      <th>North Dakota</th>\n",
       "      <td>32.764112</td>\n",
       "    </tr>\n",
       "  </tbody>\n",
       "</table>\n",
       "</div>"
      ],
      "text/plain": [
       "              cases_avg_per_100k\n",
       "state                           \n",
       "Rhode Island           32.331142\n",
       "South Dakota           32.489231\n",
       "North Dakota           32.764112"
      ]
     },
     "execution_count": 3,
     "metadata": {},
     "output_type": "execute_result"
    }
   ],
   "source": [
    "#Code that should make plot\n",
    "import covid_plot\n",
    "covid_df=covid_plot.read_in_data('/home/shared_data/covid-19-data/rolling-averages/us-states.csv')\n",
    "low_states,high_states=covid_plot.get_extreme_states(covid_df,3)\n"
   ]
  },
  {
   "cell_type": "code",
   "execution_count": null,
   "id": "ecological-france",
   "metadata": {},
   "outputs": [],
   "source": []
  },
  {
   "cell_type": "code",
   "execution_count": 2,
   "id": "limiting-restriction",
   "metadata": {},
   "outputs": [
    {
     "ename": "NameError",
     "evalue": "name 'covid_plot' is not defined",
     "output_type": "error",
     "traceback": [
      "\u001b[0;31m---------------------------------------------------------------------------\u001b[0m",
      "\u001b[0;31mNameError\u001b[0m                                 Traceback (most recent call last)",
      "\u001b[0;32m<ipython-input-2-a7a42fce1439>\u001b[0m in \u001b[0;36m<module>\u001b[0;34m\u001b[0m\n\u001b[1;32m      1\u001b[0m \u001b[0;31m#Choose any three states that you like\u001b[0m\u001b[0;34m\u001b[0m\u001b[0;34m\u001b[0m\u001b[0;34m\u001b[0m\u001b[0m\n\u001b[1;32m      2\u001b[0m \u001b[0mstates\u001b[0m\u001b[0;34m=\u001b[0m\u001b[0;34m[\u001b[0m\u001b[0;34m'Oregon'\u001b[0m\u001b[0;34m,\u001b[0m\u001b[0;34m'California'\u001b[0m\u001b[0;34m,\u001b[0m\u001b[0;34m'Texas'\u001b[0m\u001b[0;34m]\u001b[0m\u001b[0;34m\u001b[0m\u001b[0;34m\u001b[0m\u001b[0m\n\u001b[0;32m----> 3\u001b[0;31m \u001b[0max\u001b[0m\u001b[0;34m,\u001b[0m\u001b[0mcr_state\u001b[0m\u001b[0;34m=\u001b[0m\u001b[0mcovid_plot\u001b[0m\u001b[0;34m.\u001b[0m\u001b[0mmake_plot\u001b[0m\u001b[0;34m(\u001b[0m\u001b[0mdf\u001b[0m\u001b[0;34m,\u001b[0m\u001b[0mstates\u001b[0m\u001b[0;34m)\u001b[0m\u001b[0;34m\u001b[0m\u001b[0;34m\u001b[0m\u001b[0m\n\u001b[0m\u001b[1;32m      4\u001b[0m \u001b[0mcovid_plot\u001b[0m\u001b[0;34m.\u001b[0m\u001b[0mmodify_plot\u001b[0m\u001b[0;34m(\u001b[0m\u001b[0max\u001b[0m\u001b[0;34m)\u001b[0m\u001b[0;34m\u001b[0m\u001b[0;34m\u001b[0m\u001b[0m\n\u001b[1;32m      5\u001b[0m \u001b[0max\u001b[0m\u001b[0;34m,\u001b[0m\u001b[0mcr_state\u001b[0m\u001b[0;34m=\u001b[0m\u001b[0mcovid_plot\u001b[0m\u001b[0;34m.\u001b[0m\u001b[0mmake_plot\u001b[0m\u001b[0;34m(\u001b[0m\u001b[0mdf\u001b[0m\u001b[0;34m,\u001b[0m\u001b[0mlow_states\u001b[0m\u001b[0;34m)\u001b[0m\u001b[0;34m\u001b[0m\u001b[0;34m\u001b[0m\u001b[0m\n",
      "\u001b[0;31mNameError\u001b[0m: name 'covid_plot' is not defined"
     ]
    }
   ],
   "source": [
    "#Choose any three states that you like\n",
    "states=['Oregon','California','Texas']\n",
    "ax,cr_state=covid_plot.make_plot(df,states)\n",
    "covid_plot.modify_plot(ax)\n",
    "ax,cr_state=covid_plot.make_plot(df,low_states)\n",
    "covid_plot.modify_plot(ax)\n",
    "ax,cr_state=covid_plot.make_plot(df,high_states)\n",
    "covid_plot.modify_plot(ax)"
   ]
  },
  {
   "cell_type": "code",
   "execution_count": null,
   "id": "determined-approach",
   "metadata": {},
   "outputs": [],
   "source": []
  }
 ],
 "metadata": {
  "kernelspec": {
   "display_name": "Python 3",
   "language": "python",
   "name": "python3"
  },
  "language_info": {
   "codemirror_mode": {
    "name": "ipython",
    "version": 3
   },
   "file_extension": ".py",
   "mimetype": "text/x-python",
   "name": "python",
   "nbconvert_exporter": "python",
   "pygments_lexer": "ipython3",
   "version": "3.7.9"
  }
 },
 "nbformat": 4,
 "nbformat_minor": 5
}
