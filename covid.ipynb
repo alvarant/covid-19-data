{
 "cells": [
  {
   "cell_type": "code",
   "execution_count": 2,
   "id": "separated-albany",
   "metadata": {},
   "outputs": [
    {
     "ename": "SyntaxError",
     "evalue": "invalid syntax (covid_plot.py, line 37)",
     "output_type": "error",
     "traceback": [
      "Traceback \u001b[0;36m(most recent call last)\u001b[0m:\n",
      "  File \u001b[1;32m\"/opt/conda/lib/python3.7/site-packages/IPython/core/interactiveshell.py\"\u001b[0m, line \u001b[1;32m3427\u001b[0m, in \u001b[1;35mrun_code\u001b[0m\n    exec(code_obj, self.user_global_ns, self.user_ns)\n",
      "\u001b[0;36m  File \u001b[0;32m\"<ipython-input-2-aee69f04b274>\"\u001b[0;36m, line \u001b[0;32m2\u001b[0;36m, in \u001b[0;35m<module>\u001b[0;36m\u001b[0m\n\u001b[0;31m    import covid_plot\u001b[0m\n",
      "\u001b[0;36m  File \u001b[0;32m\"/home/alvarant/hw/hw07/covid_19_data/covid_plot.py\"\u001b[0;36m, line \u001b[0;32m37\u001b[0m\n\u001b[0;31m    <<<<<<< HEAD\u001b[0m\n\u001b[0m     ^\u001b[0m\n\u001b[0;31mSyntaxError\u001b[0m\u001b[0;31m:\u001b[0m invalid syntax\n"
     ]
    }
   ],
   "source": [
    "#Code that should make plot\n",
    "import covid_plot\n",
    "df=covid_plot.read_in_data()\n",
    "#low_states,high_states=covid_plot.get_extreme_states(df,3)"
   ]
  },
  {
   "cell_type": "code",
   "execution_count": null,
   "id": "mature-sword",
   "metadata": {},
   "outputs": [],
   "source": []
  },
  {
   "cell_type": "code",
   "execution_count": 2,
   "id": "lovely-cursor",
   "metadata": {},
   "outputs": [
    {
     "ename": "NameError",
     "evalue": "name 'covid_plot' is not defined",
     "output_type": "error",
     "traceback": [
      "\u001b[0;31m---------------------------------------------------------------------------\u001b[0m",
      "\u001b[0;31mNameError\u001b[0m                                 Traceback (most recent call last)",
      "\u001b[0;32m<ipython-input-2-a7a42fce1439>\u001b[0m in \u001b[0;36m<module>\u001b[0;34m\u001b[0m\n\u001b[1;32m      1\u001b[0m \u001b[0;31m#Choose any three states that you like\u001b[0m\u001b[0;34m\u001b[0m\u001b[0;34m\u001b[0m\u001b[0;34m\u001b[0m\u001b[0m\n\u001b[1;32m      2\u001b[0m \u001b[0mstates\u001b[0m\u001b[0;34m=\u001b[0m\u001b[0;34m[\u001b[0m\u001b[0;34m'Oregon'\u001b[0m\u001b[0;34m,\u001b[0m\u001b[0;34m'California'\u001b[0m\u001b[0;34m,\u001b[0m\u001b[0;34m'Texas'\u001b[0m\u001b[0;34m]\u001b[0m\u001b[0;34m\u001b[0m\u001b[0;34m\u001b[0m\u001b[0m\n\u001b[0;32m----> 3\u001b[0;31m \u001b[0max\u001b[0m\u001b[0;34m,\u001b[0m\u001b[0mcr_state\u001b[0m\u001b[0;34m=\u001b[0m\u001b[0mcovid_plot\u001b[0m\u001b[0;34m.\u001b[0m\u001b[0mmake_plot\u001b[0m\u001b[0;34m(\u001b[0m\u001b[0mdf\u001b[0m\u001b[0;34m,\u001b[0m\u001b[0mstates\u001b[0m\u001b[0;34m)\u001b[0m\u001b[0;34m\u001b[0m\u001b[0;34m\u001b[0m\u001b[0m\n\u001b[0m\u001b[1;32m      4\u001b[0m \u001b[0mcovid_plot\u001b[0m\u001b[0;34m.\u001b[0m\u001b[0mmodify_plot\u001b[0m\u001b[0;34m(\u001b[0m\u001b[0max\u001b[0m\u001b[0;34m)\u001b[0m\u001b[0;34m\u001b[0m\u001b[0;34m\u001b[0m\u001b[0m\n\u001b[1;32m      5\u001b[0m \u001b[0max\u001b[0m\u001b[0;34m,\u001b[0m\u001b[0mcr_state\u001b[0m\u001b[0;34m=\u001b[0m\u001b[0mcovid_plot\u001b[0m\u001b[0;34m.\u001b[0m\u001b[0mmake_plot\u001b[0m\u001b[0;34m(\u001b[0m\u001b[0mdf\u001b[0m\u001b[0;34m,\u001b[0m\u001b[0mlow_states\u001b[0m\u001b[0;34m)\u001b[0m\u001b[0;34m\u001b[0m\u001b[0;34m\u001b[0m\u001b[0m\n",
      "\u001b[0;31mNameError\u001b[0m: name 'covid_plot' is not defined"
     ]
    }
   ],
   "source": [
    "#Choose any three states that you like\n",
    "states=['Oregon','California','Texas']\n",
    "ax,cr_state=covid_plot.make_plot(df,states)\n",
    "covid_plot.modify_plot(ax)\n",
    "ax,cr_state=covid_plot.make_plot(df,low_states)\n",
    "covid_plot.modify_plot(ax)\n",
    "ax,cr_state=covid_plot.make_plot(df,high_states)\n",
    "covid_plot.modify_plot(ax)"
   ]
  },
  {
   "cell_type": "code",
   "execution_count": null,
   "id": "boring-oxide",
   "metadata": {},
   "outputs": [],
   "source": []
  }
 ],
 "metadata": {
  "kernelspec": {
   "display_name": "Python 3",
   "language": "python",
   "name": "python3"
  },
  "language_info": {
   "codemirror_mode": {
    "name": "ipython",
    "version": 3
   },
   "file_extension": ".py",
   "mimetype": "text/x-python",
   "name": "python",
   "nbconvert_exporter": "python",
   "pygments_lexer": "ipython3",
   "version": "3.7.9"
  }
 },
 "nbformat": 4,
 "nbformat_minor": 5
}
