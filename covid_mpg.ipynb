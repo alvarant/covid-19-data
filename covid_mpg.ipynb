{
 "cells": [
  {
   "cell_type": "code",
   "execution_count": 1,
   "id": "occasional-trigger",
   "metadata": {},
   "outputs": [
    {
     "ename": "ModuleNotFoundError",
     "evalue": "No module named 'covid_plot'",
     "output_type": "error",
     "traceback": [
      "\u001b[0;31m---------------------------------------------------------------------------\u001b[0m",
      "\u001b[0;31mModuleNotFoundError\u001b[0m                       Traceback (most recent call last)",
      "\u001b[0;32m<ipython-input-1-093e065eb059>\u001b[0m in \u001b[0;36m<module>\u001b[0;34m\u001b[0m\n\u001b[1;32m      1\u001b[0m \u001b[0;31m#Code that should make plot\u001b[0m\u001b[0;34m\u001b[0m\u001b[0;34m\u001b[0m\u001b[0;34m\u001b[0m\u001b[0m\n\u001b[0;32m----> 2\u001b[0;31m \u001b[0;32mimport\u001b[0m \u001b[0mcovid_plot\u001b[0m\u001b[0;34m\u001b[0m\u001b[0;34m\u001b[0m\u001b[0m\n\u001b[0m\u001b[1;32m      3\u001b[0m \u001b[0mdf\u001b[0m\u001b[0;34m=\u001b[0m\u001b[0mcovid_plot\u001b[0m\u001b[0;34m.\u001b[0m\u001b[0mread_in_data\u001b[0m\u001b[0;34m(\u001b[0m\u001b[0mfilename\u001b[0m\u001b[0;34m)\u001b[0m\u001b[0;34m\u001b[0m\u001b[0;34m\u001b[0m\u001b[0m\n\u001b[1;32m      4\u001b[0m \u001b[0mlow_states\u001b[0m\u001b[0;34m,\u001b[0m\u001b[0mhigh_states\u001b[0m\u001b[0;34m=\u001b[0m\u001b[0mcovid_plot\u001b[0m\u001b[0;34m.\u001b[0m\u001b[0mget_extreme_states\u001b[0m\u001b[0;34m(\u001b[0m\u001b[0mdf\u001b[0m\u001b[0;34m)\u001b[0m\u001b[0;34m\u001b[0m\u001b[0;34m\u001b[0m\u001b[0m\n",
      "\u001b[0;31mModuleNotFoundError\u001b[0m: No module named 'covid_plot'"
     ]
    }
   ],
   "source": [
    "#Code that should make plot\n",
    "import covid_plot_mpg\n",
    "df=covid_plot_mpg.read_in_data(filename)\n",
    "low_states,high_states=covid_plot.get_extreme_states(df)"
   ]
  },
  {
   "cell_type": "code",
   "execution_count": null,
   "id": "described-lodge",
   "metadata": {},
   "outputs": [],
   "source": [
    "#Choose any three states that you like\n",
    "states=['Oregon','California','Texas']\n",
    "ax,cr_state=covid_plot.make_plot(df,states)\n",
    "covid_plot.modify_plot(ax)\n",
    "ax,cr_state=covid_plot.make_plot(df,low_states)\n",
    "covid_plot.modify_plot(ax)\n",
    "ax,cr_state=covid_plot.make_plot(df,high_states)\n",
    "covid_plot.modify_plot(ax)"
   ]
  },
  {
   "cell_type": "code",
   "execution_count": 52,
   "id": "suspected-western",
   "metadata": {},
   "outputs": [
    {
     "name": "stdout",
     "output_type": "stream",
     "text": [
      "['Northern Mariana Islands', 'Hawaii', 'Virgin Islands']\n"
     ]
    }
   ],
   "source": [
    "import pandas as pd\n",
    "import matplotlib.pyplot as plt\n",
    "filename = '/home/shared_data/covid-19-data/rolling-averages/us-states.csv'\n",
    "df = pd.read_csv(filename)\n",
    "#group by year\n",
    "states_df = df.groupby(by=['state']).agg({'cases_avg_per_100k':['sum']})\n",
    "states_df.columns=['cases_avg_per_100k']\n",
    "states_sorted = states_df.sort_values(['cases_avg_per_100k']).reset_index()\n",
    "print(states_sorted.state.head(3).tolist())\n",
    "\n",
    "\n"
   ]
  },
  {
   "cell_type": "code",
   "execution_count": null,
   "id": "talented-hormone",
   "metadata": {},
   "outputs": [],
   "source": []
  }
 ],
 "metadata": {
  "kernelspec": {
   "display_name": "Python 3",
   "language": "python",
   "name": "python3"
  },
  "language_info": {
   "codemirror_mode": {
    "name": "ipython",
    "version": 3
   },
   "file_extension": ".py",
   "mimetype": "text/x-python",
   "name": "python",
   "nbconvert_exporter": "python",
   "pygments_lexer": "ipython3",
   "version": "3.7.9"
  }
 },
 "nbformat": 4,
 "nbformat_minor": 5
}
